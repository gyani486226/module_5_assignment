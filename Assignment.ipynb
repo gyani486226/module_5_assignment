{
 "cells": [
  {
   "cell_type": "raw",
   "id": "779bda7a-7d88-48b5-92de-61c3cd4bd9fc",
   "metadata": {},
   "source": [
    "Q1. What are the five key concepts of Object-Oriented Programming (OOP)?\n",
    "\n",
    "1- Classes and objects are the two main aspects of object oriented programming,\n",
    "2- In object oriented programming data and functions are combined to form a class,\n",
    "3- Classes acts as a blueprint or a template of objects \n",
    "4- In a project that have many component like frontend, backend , data pipelines etc. if we want to work on any specific part of the project like backend>> if we dont made a class of this object then it is difficult to find/take time to identify and work on it >> but oops helps to arrange the required functions in respective classes.\n",
    "5- Reusability is also a main feature of OOP means we can use the class or template of the OOP in any other place/programme by making object of that  class/template."
   ]
  },
  {
   "cell_type": "raw",
   "id": "c6549bd1-6bd8-49c8-aebb-b9901a29db11",
   "metadata": {},
   "source": [
    "Q2. Write a Python class for a `Car` with attributes for `make`, `model`, and `year`. Include a method to display the car's information."
   ]
  },
  {
   "cell_type": "code",
   "execution_count": 3,
   "id": "f09e5b32-8d55-4aa4-ad19-12cbbe08ab02",
   "metadata": {},
   "outputs": [],
   "source": [
    "class Car:\n",
    "    def __init__(self, make, model, year):\n",
    "        self.make = make\n",
    "        self.model = model\n",
    "        self.year = year\n",
    "    def  display_car_info(self):\n",
    "        print(\"car's information:-\", self.make ,self.model, self.year)\n",
    "        "
   ]
  },
  {
   "cell_type": "code",
   "execution_count": 5,
   "id": "d6d10baf-790f-4e3b-84a0-9e233fa3815b",
   "metadata": {},
   "outputs": [],
   "source": [
    "car1 = Car(\"Tata\",\"Range rover\",\"2024\")"
   ]
  },
  {
   "cell_type": "code",
   "execution_count": 7,
   "id": "1099ed51-9ccf-4106-870d-d76424ec83ae",
   "metadata": {},
   "outputs": [
    {
     "data": {
      "text/plain": [
       "'Tata'"
      ]
     },
     "execution_count": 7,
     "metadata": {},
     "output_type": "execute_result"
    }
   ],
   "source": [
    "car1.make"
   ]
  },
  {
   "cell_type": "code",
   "execution_count": 9,
   "id": "91d2c688-f919-47b8-a2c0-af0f74cf3451",
   "metadata": {},
   "outputs": [
    {
     "data": {
      "text/plain": [
       "'Range rover'"
      ]
     },
     "execution_count": 9,
     "metadata": {},
     "output_type": "execute_result"
    }
   ],
   "source": [
    "car1.model"
   ]
  },
  {
   "cell_type": "code",
   "execution_count": 11,
   "id": "5d0eb6a8-ec65-4033-8d91-e6ab03579a00",
   "metadata": {},
   "outputs": [
    {
     "data": {
      "text/plain": [
       "'2024'"
      ]
     },
     "execution_count": 11,
     "metadata": {},
     "output_type": "execute_result"
    }
   ],
   "source": [
    "car1.year"
   ]
  },
  {
   "cell_type": "code",
   "execution_count": 13,
   "id": "03a068a1-8361-49d1-a9b0-0328885ad9d0",
   "metadata": {},
   "outputs": [
    {
     "name": "stdout",
     "output_type": "stream",
     "text": [
      "car's information:- Tata Range rover 2024\n"
     ]
    }
   ],
   "source": [
    "car1.display_car_info()"
   ]
  },
  {
   "cell_type": "raw",
   "id": "a6f23044-a201-49bf-9f51-0e9733a82829",
   "metadata": {},
   "source": [
    "Q3. Explain the difference between instance methods and class methods. Provide an example of each\n",
    "\n",
    "Class method:-\n",
    "\n",
    "1. Class method is also considered as the alternative of init method to pass the data.\n",
    "2. instead of self , cls a first parameter\n",
    "3. ( @classmethod ) write to decorate in the class method\n",
    "4. Class method is bounds to the class.\n",
    "5. It can access or modify methods and attributes associated to the class across all the instances.\n",
    "6. with the help of class method we also add external method in the class method.\n",
    "7. Class methods don't depend on individual instance,they operate/bound the class level.\n",
    "\n",
    "Instance method:-\n",
    "\n",
    "1. self is the first parameter of instance method\n",
    "2. It helps to initialize the instance variable\n",
    "3. It is also called as dunder/magic method\n",
    "4. Instance method is defined within a class and is associated with instances (objects) of that class\n",
    "5. we can access and modify instance - level attributes \n",
    "6. syntax is __init__\n",
    "7. In the instance method first made a object of the class and after that call of the given attributes.\n"
   ]
  },
  {
   "cell_type": "code",
   "execution_count": 177,
   "id": "919b6cbc-fa6f-4e5d-9984-08ec6d70bf1a",
   "metadata": {},
   "outputs": [],
   "source": [
    "#Instance method\n",
    "class Zoo:\n",
    "    def animal1(self, name):\n",
    "        print(name,\"are there\")\n",
    "    def animal2(self, name):\n",
    "        print(name,\"king of the jungle\")"
   ]
  },
  {
   "cell_type": "code",
   "execution_count": 179,
   "id": "cc2097c6-9a3a-4c46-a200-b0a6deeab86d",
   "metadata": {},
   "outputs": [
    {
     "name": "stdout",
     "output_type": "stream",
     "text": [
      "Monkey are there\n"
     ]
    }
   ],
   "source": [
    "obj3 = Zoo()\n",
    "obj3.animal1(\"Monkey\")"
   ]
  },
  {
   "cell_type": "code",
   "execution_count": 181,
   "id": "d5bfab99-3996-44ba-8fae-8e42a0032612",
   "metadata": {},
   "outputs": [
    {
     "name": "stdout",
     "output_type": "stream",
     "text": [
      "Lion king of the jungle\n"
     ]
    }
   ],
   "source": [
    "obj3.animal2(\"Lion\")"
   ]
  },
  {
   "cell_type": "code",
   "execution_count": 200,
   "id": "2d6220b7-3819-496f-9350-0c18e51b4891",
   "metadata": {},
   "outputs": [],
   "source": [
    "#Class method\n",
    "class Zoo:\n",
    "    @classmethod\n",
    "    def animal1(self, name):\n",
    "        print(name,\"are there\")\n",
    "    @classmethod    \n",
    "    def animal2(self, name):\n",
    "        print(name,\"king of the jungle\")"
   ]
  },
  {
   "cell_type": "code",
   "execution_count": 202,
   "id": "2536c9b8-4f38-44eb-9b9b-51aafd0f4450",
   "metadata": {},
   "outputs": [
    {
     "name": "stdout",
     "output_type": "stream",
     "text": [
      "elephant king of the jungle\n"
     ]
    }
   ],
   "source": [
    "obj = Zoo.animal2(\"elephant\")"
   ]
  },
  {
   "cell_type": "code",
   "execution_count": 204,
   "id": "b7087414-8e74-4b65-95b8-fbe3c524b985",
   "metadata": {},
   "outputs": [
    {
     "name": "stdout",
     "output_type": "stream",
     "text": [
      "Lion are there\n"
     ]
    }
   ],
   "source": [
    "obj = Zoo.animal1(\"Lion\")"
   ]
  },
  {
   "cell_type": "code",
   "execution_count": null,
   "id": "fdbf4ed6-0503-4bc9-912b-c8c1be71905b",
   "metadata": {},
   "outputs": [],
   "source": []
  },
  {
   "cell_type": "code",
   "execution_count": null,
   "id": "3f8c74b2-3917-49c2-bd52-5c6b95cd4574",
   "metadata": {},
   "outputs": [],
   "source": []
  },
  {
   "cell_type": "raw",
   "id": "6f90fecf-121e-496e-831a-17ea90342ef7",
   "metadata": {},
   "source": [
    "Q4. How does Python implement method overloading ? Give an example.\n",
    "In single class when more than one function with same method name then the python overloads the previous one and follow last function."
   ]
  },
  {
   "cell_type": "code",
   "execution_count": 47,
   "id": "789b1b45-6db8-4ba1-a665-83baeec8b45f",
   "metadata": {},
   "outputs": [],
   "source": [
    "class Student: #class with different method but all method name is same (student)but forms are different\n",
    "    def student(self):\n",
    "        print(\"Welcome to pwskills class\")\n",
    "    def student(self, name = \"\"):\n",
    "         print(\"Welcome to pwskills class\", name)\n",
    "    def student(self, name = \"\", course = \"\"): \n",
    "         print(\"Welcome to pwskills class\", name, course)\n",
    "    "
   ]
  },
  {
   "cell_type": "code",
   "execution_count": 74,
   "id": "82fefda4-2695-4a32-8965-e43272935e2e",
   "metadata": {},
   "outputs": [
    {
     "name": "stdout",
     "output_type": "stream",
     "text": [
      "Welcome to pwskills class  \n"
     ]
    }
   ],
   "source": [
    "stud = Student()\n",
    "stud.student()"
   ]
  },
  {
   "cell_type": "code",
   "execution_count": 78,
   "id": "1c6c5510-12e3-4dcd-9797-d6eb90eeafe9",
   "metadata": {},
   "outputs": [
    {
     "name": "stdout",
     "output_type": "stream",
     "text": [
      "Welcome to pwskills class Harry \n"
     ]
    }
   ],
   "source": [
    "stud.student(\"Harry\")"
   ]
  },
  {
   "cell_type": "code",
   "execution_count": 90,
   "id": "efd9aeab-ded6-4cf1-be71-7453f32d1720",
   "metadata": {},
   "outputs": [
    {
     "name": "stdout",
     "output_type": "stream",
     "text": [
      "Welcome to pwskills class Harry Majedaar \n"
     ]
    }
   ],
   "source": [
    "stud.student(\"Harry\" \" Majedaar\")"
   ]
  },
  {
   "cell_type": "code",
   "execution_count": 65,
   "id": "80ef2cac-039c-4395-ae0d-390129508e09",
   "metadata": {},
   "outputs": [],
   "source": [
    "# all done in single line \n",
    "class Student:\n",
    "    def student(self, name = \"\", course = \"\"): \n",
    "         print(\"Welcome to pwskills class\", name, course)"
   ]
  },
  {
   "cell_type": "code",
   "execution_count": 99,
   "id": "bb44f3cc-9a08-40a2-9c4a-040e189f25d2",
   "metadata": {},
   "outputs": [
    {
     "name": "stdout",
     "output_type": "stream",
     "text": [
      "Welcome to pwskills class  \n"
     ]
    }
   ],
   "source": [
    "stud1 = Student()\n",
    "stud1.student()"
   ]
  },
  {
   "cell_type": "code",
   "execution_count": 105,
   "id": "561614a1-482c-4cad-8327-3771b13ff423",
   "metadata": {},
   "outputs": [
    {
     "name": "stdout",
     "output_type": "stream",
     "text": [
      "Welcome to pwskills class Harry Xmajedaar \n"
     ]
    }
   ],
   "source": [
    "stud1.student(\"Harry\" \" Xmajedaar\")"
   ]
  },
  {
   "cell_type": "code",
   "execution_count": 109,
   "id": "f291977b-eb05-45ad-bf73-cb14988dd356",
   "metadata": {},
   "outputs": [
    {
     "name": "stdout",
     "output_type": "stream",
     "text": [
      "Welcome to pwskills class Harry jugaad\n"
     ]
    }
   ],
   "source": [
    "stud1.student(\"Harry\",\"jugaad\")"
   ]
  },
  {
   "cell_type": "raw",
   "id": "55f60f9c-4e9f-4ab2-bee9-7fde95912051",
   "metadata": {},
   "source": [
    "Q6. Describe the five types of inheritance in Python. Provide a simple example of multiple inheritance.\n",
    "Ans- 1-The technique of creating a new  class from an existing class is called inheritance. The old or existing class is called the base class and the new class is knkown as derived class or subclass.\n",
    "2-The derived classes are first inheriting the data and methods of the base class and then adding new specialized data and functions in it.\n",
    "3-In the process of inheritance the base class remains unchanged.\n",
    "4-IT Is similar that the son and parent relationship means the son receives all the property/functions/method of parents but vice versa is not true.\n",
    "\n",
    "Types of inheritance:-\n",
    "1. Single inheritance - In single inheritance a class can be derived from a single base class.\n",
    "2.Multiple inheritance - In multiple inheritance a class can be derived from the multiple base class or the one child class may inherit the property  of multiple parent class.\n",
    "3.Multilevel inheritance - In multilevel inheritance the derived class is derived from the other derived class.\n",
    "4.Hierarchial inheritance -In hierarchial inheritance one parent class and multiple base/children class.\n",
    "5.Hybrid inheritance - In hybrid inheritance consists of multiple types or a combination of different inheritance is called hybrid inheritance.\n",
    "\n",
    " "
   ]
  },
  {
   "cell_type": "code",
   "execution_count": 97,
   "id": "a8bc6c09-74d0-4a72-bdcd-9e11a90482ce",
   "metadata": {},
   "outputs": [],
   "source": [
    "#Single inheritance\n",
    "class Science:\n",
    "    def science_subject(self):\n",
    "        print(\"In science subject contains physics, chemistry and biology\")\n",
    "\n",
    "class  Science_subject_contain(Science):\n",
    "    def subject(self):\n",
    "        print(\"Fluid mechanics is also the part of science\")"
   ]
  },
  {
   "cell_type": "code",
   "execution_count": 99,
   "id": "f83c6d1e-ec9e-4e2c-9861-2f9e9b30a0a3",
   "metadata": {},
   "outputs": [
    {
     "name": "stdout",
     "output_type": "stream",
     "text": [
      "In science subject contains physics, chemistry and biology\n"
     ]
    }
   ],
   "source": [
    "cl1 = Science()\n",
    "cl1.science_subject()"
   ]
  },
  {
   "cell_type": "code",
   "execution_count": 101,
   "id": "1381cf18-8269-4c90-a82d-876fbcd0b061",
   "metadata": {},
   "outputs": [
    {
     "name": "stdout",
     "output_type": "stream",
     "text": [
      "Fluid mechanics is also the part of science\n"
     ]
    }
   ],
   "source": [
    "cl2 = Science_subject_contain()\n",
    "cl2.subject()"
   ]
  },
  {
   "cell_type": "code",
   "execution_count": 103,
   "id": "1c0db3b7-4d0d-434c-90f2-509aaef7cae6",
   "metadata": {},
   "outputs": [
    {
     "name": "stdout",
     "output_type": "stream",
     "text": [
      "In science subject contains physics, chemistry and biology\n"
     ]
    }
   ],
   "source": [
    "cl2.science_subject()"
   ]
  },
  {
   "cell_type": "code",
   "execution_count": 105,
   "id": "17efaf15-4417-4e83-9cdb-4ba4db87b3c1",
   "metadata": {},
   "outputs": [],
   "source": [
    "# multilevel inheritance\n",
    "class Mathematics:\n",
    "    def contain(self):\n",
    "        print(\"Arithmetic, Algebra, Statics and probability etc. are the branches of mathematics\")\n",
    "\n",
    "class Probability(Mathematics):\n",
    "    def probability_contain(self):\n",
    "        print(\"In probability many concept like bayes method, poisson's distributioon \")\n",
    "\n",
    "class Also(Probability):\n",
    "    def also_contains(self):\n",
    "        print(\"continuous distribution,Random experiment etc are also the part of probability\")"
   ]
  },
  {
   "cell_type": "code",
   "execution_count": 107,
   "id": "537cd214-a936-44ec-bcba-56cf214da693",
   "metadata": {},
   "outputs": [
    {
     "name": "stdout",
     "output_type": "stream",
     "text": [
      "Arithmetic, Algebra, Statics and probability etc. are the branches of mathematics\n"
     ]
    }
   ],
   "source": [
    "obj1 = Mathematics()\n",
    "obj1.contain()"
   ]
  },
  {
   "cell_type": "code",
   "execution_count": 109,
   "id": "669968c2-aa44-4798-8532-3e7010ae9d3c",
   "metadata": {},
   "outputs": [
    {
     "name": "stdout",
     "output_type": "stream",
     "text": [
      "Arithmetic, Algebra, Statics and probability etc. are the branches of mathematics\n",
      "In probability many concept like bayes method, poisson's distributioon \n"
     ]
    }
   ],
   "source": [
    "obj2 = Probability()\n",
    "obj2.contain()\n",
    "obj2.probability_contain()"
   ]
  },
  {
   "cell_type": "code",
   "execution_count": 111,
   "id": "30b43531-31dd-4114-b4d2-717ea0513aeb",
   "metadata": {},
   "outputs": [
    {
     "name": "stdout",
     "output_type": "stream",
     "text": [
      "Arithmetic, Algebra, Statics and probability etc. are the branches of mathematics\n",
      "In probability many concept like bayes method, poisson's distributioon \n",
      "continuous distribution,Random experiment etc are also the part of probability\n"
     ]
    }
   ],
   "source": [
    "obj3 = Also()\n",
    "obj3.contain()\n",
    "obj3.probability_contain()\n",
    "obj3.also_contains()"
   ]
  },
  {
   "cell_type": "code",
   "execution_count": 113,
   "id": "64d75a31-73d4-42c5-86bb-8aad25f150ec",
   "metadata": {},
   "outputs": [],
   "source": [
    "#Multiple inheritance\n",
    "class Tyre:\n",
    "    def contain(self):\n",
    "        print(\"A car has 4 tyres\")\n",
    "class Brake:\n",
    "    def also_contain(self):\n",
    "        print(\"Mainly in cars, multiplate brakes are used\")\n",
    "        \n",
    "class Car(Tyre, Brake):\n",
    "    def Engine(self):\n",
    "        print(\"Engine is the Heart of car\")"
   ]
  },
  {
   "cell_type": "code",
   "execution_count": 149,
   "id": "e0407bd3-7ac5-47a9-91e2-f6506101e705",
   "metadata": {},
   "outputs": [
    {
     "name": "stdout",
     "output_type": "stream",
     "text": [
      "Engine is the Heart of car\n"
     ]
    }
   ],
   "source": [
    "my_car = Car()\n",
    "my_car.Engine()"
   ]
  },
  {
   "cell_type": "code",
   "execution_count": 151,
   "id": "a971ebf3-0959-4037-b148-99327ae3897a",
   "metadata": {},
   "outputs": [
    {
     "name": "stdout",
     "output_type": "stream",
     "text": [
      "A car has 4 tyres\n"
     ]
    }
   ],
   "source": [
    "my_car.contain()"
   ]
  },
  {
   "cell_type": "code",
   "execution_count": 157,
   "id": "85602bf1-c959-4e65-9916-1d34c3ee5f33",
   "metadata": {},
   "outputs": [
    {
     "name": "stdout",
     "output_type": "stream",
     "text": [
      "Engine is the Heart of car\n"
     ]
    }
   ],
   "source": [
    "my_car.Engine()"
   ]
  },
  {
   "cell_type": "code",
   "execution_count": 206,
   "id": "6f6e87d6-9d1e-4a51-b9b0-22758b4d796c",
   "metadata": {},
   "outputs": [],
   "source": [
    "#In multiple inheritance >> diamond problem >> in this case both base classes define a same method called (contain) so during calling \n",
    "# it prioritizes the order in which the base classes were listed during class definition\n",
    "class Tyre:\n",
    "    def contain(self):\n",
    "        print(\"A car has 4 tyres\")\n",
    "class Brake:\n",
    "    def contain(self):\n",
    "        print(\"Mainly in cars, multiplate brakes are used\")\n",
    "        \n",
    "class Car(Tyre, Brake):\n",
    "    def Engine(self):\n",
    "        print(\"Engine is the Heart of car\")"
   ]
  },
  {
   "cell_type": "code",
   "execution_count": 208,
   "id": "0d7e3246-96cd-45b9-8801-c39be04fa892",
   "metadata": {},
   "outputs": [
    {
     "name": "stdout",
     "output_type": "stream",
     "text": [
      "A car has 4 tyres\n"
     ]
    }
   ],
   "source": [
    "my_car = Tyre()\n",
    "my_car.contain()"
   ]
  },
  {
   "cell_type": "code",
   "execution_count": 210,
   "id": "0dcb11ac-ac12-436f-99c6-606facc6fc47",
   "metadata": {},
   "outputs": [
    {
     "name": "stdout",
     "output_type": "stream",
     "text": [
      "Engine is the Heart of car\n"
     ]
    }
   ],
   "source": [
    "my_car1 = Car()\n",
    "my_car1.Engine()"
   ]
  },
  {
   "cell_type": "code",
   "execution_count": 212,
   "id": "948ad768-0b4e-435e-98b5-197f6e0bdedc",
   "metadata": {},
   "outputs": [
    {
     "name": "stdout",
     "output_type": "stream",
     "text": [
      "A car has 4 tyres\n"
     ]
    }
   ],
   "source": [
    "my_car1.contain()"
   ]
  },
  {
   "cell_type": "raw",
   "id": "791f0a8a-2d91-4847-b2f0-29c26232cacf",
   "metadata": {},
   "source": [
    "Q8. Create an abstract base class `Shape` with an abstract method `area()`. Then create two subclasses\n",
    "`Circle` and `Rectangle` that implement the `area()` method."
   ]
  },
  {
   "cell_type": "code",
   "execution_count": 211,
   "id": "c2741eba-67ba-406f-8a6a-7c53747800e3",
   "metadata": {},
   "outputs": [],
   "source": [
    "import abc\n",
    "class Shape:\n",
    "    @abc.abstractmethod\n",
    "    def  area(self):\n",
    "        pass\n",
    "\n",
    "class Rectangle(Shape):\n",
    "    def  area(self):\n",
    "        return \"Area of Rectangle is length * breadth\"\n",
    "\n",
    "\n",
    "class Circle(Shape):\n",
    "    def  area(self):\n",
    "        return \"Area of  Circle is 3.14*radius*radius\"      \n",
    "    "
   ]
  },
  {
   "cell_type": "code",
   "execution_count": 213,
   "id": "7d028ec3-5f33-442a-8ea6-4707fc0e2a65",
   "metadata": {},
   "outputs": [
    {
     "data": {
      "text/plain": [
       "'Area of  Circle is 3.14*radius*radius'"
      ]
     },
     "execution_count": 213,
     "metadata": {},
     "output_type": "execute_result"
    }
   ],
   "source": [
    "cir = Circle()\n",
    "cir.area()"
   ]
  },
  {
   "cell_type": "code",
   "execution_count": 215,
   "id": "449e5aa4-0543-45ce-855a-d6bd224879a1",
   "metadata": {},
   "outputs": [
    {
     "data": {
      "text/plain": [
       "'Area of Rectangle is length * breadth'"
      ]
     },
     "execution_count": 215,
     "metadata": {},
     "output_type": "execute_result"
    }
   ],
   "source": [
    "rect = Rectangle()\n",
    "rect.area()"
   ]
  },
  {
   "cell_type": "code",
   "execution_count": null,
   "id": "7677332c-5026-4744-8ae7-046a5341c21d",
   "metadata": {},
   "outputs": [],
   "source": []
  },
  {
   "cell_type": "raw",
   "id": "c01a39ce-37f3-47a2-b403-1eb11632fccd",
   "metadata": {},
   "source": [
    "4. How does Python implement method overloading? Give an example.\n",
    "#in case of method overriding>>park method is taking different forms, the last method actually overloads the previous one in the same class\n",
    "#class with different method but all method name is same (park) but forms are different\n",
    "# all done in one line"
   ]
  },
  {
   "cell_type": "code",
   "execution_count": 214,
   "id": "91d2cc63-37dd-4bea-ac02-de2ff1aaf00f",
   "metadata": {},
   "outputs": [],
   "source": [
    "class Park:\n",
    "    def park(self):\n",
    "        print(\"let us enjoy on park\")\n",
    "    def park(self,game1 = \"\"):\n",
    "        print(\"let us enjoy on park\",game1,\"is availble\")\n",
    "    def park(self,game1=\"\", game2 = \"\"):\n",
    "        print(\"let us enjoy on park\",game2,\"is also available\")\n",
    "    def park(self,game1=\"\",game2=\"\",allg=\"\"):\n",
    "        print(\"let us enjoy on park\",game1,game2,allg, \"is available here\")\n",
    "        "
   ]
  },
  {
   "cell_type": "code",
   "execution_count": 216,
   "id": "30ae95c9-5022-4e20-8885-abb459b735c6",
   "metadata": {},
   "outputs": [],
   "source": [
    "g1 = Park()"
   ]
  },
  {
   "cell_type": "code",
   "execution_count": 218,
   "id": "ffa590d9-f8f0-4e89-8968-44dfe1422424",
   "metadata": {},
   "outputs": [
    {
     "name": "stdout",
     "output_type": "stream",
     "text": [
      "let us enjoy on park    is available here\n"
     ]
    }
   ],
   "source": [
    "g1.park()"
   ]
  },
  {
   "cell_type": "code",
   "execution_count": 220,
   "id": "ca342a22-a88f-4567-95f7-8937ccdfa082",
   "metadata": {},
   "outputs": [
    {
     "name": "stdout",
     "output_type": "stream",
     "text": [
      "let us enjoy on park Kite Flying:   is available here\n"
     ]
    }
   ],
   "source": [
    "g1.park(\"Kite Flying:\")"
   ]
  },
  {
   "cell_type": "code",
   "execution_count": 222,
   "id": "fc268a63-ea6b-43f1-9875-7a1c25a33298",
   "metadata": {},
   "outputs": [
    {
     "name": "stdout",
     "output_type": "stream",
     "text": [
      "let us enjoy on park Kite Flying: Hula Hoop Challenge:  is available here\n"
     ]
    }
   ],
   "source": [
    "g1.park(\"Kite Flying:\",\"Hula Hoop Challenge:\")"
   ]
  },
  {
   "cell_type": "code",
   "execution_count": 224,
   "id": "9f4cf948-658b-46dd-b07d-b540260b72fe",
   "metadata": {},
   "outputs": [
    {
     "name": "stdout",
     "output_type": "stream",
     "text": [
      "let us enjoy on park Kite Flying: Hula Hoop Challenge: Three-Legged Race: is available here\n"
     ]
    }
   ],
   "source": [
    "g1.park(\"Kite Flying:\",\"Hula Hoop Challenge:\",\"Three-Legged Race:\")"
   ]
  },
  {
   "cell_type": "code",
   "execution_count": null,
   "id": "8390d6dc-9dd1-4667-bddb-11886347cbad",
   "metadata": {},
   "outputs": [],
   "source": []
  },
  {
   "cell_type": "code",
   "execution_count": 226,
   "id": "5191c458-a87b-4b24-9bbb-6fe2057b9724",
   "metadata": {},
   "outputs": [],
   "source": [
    "#All done in single line called as overloading\n",
    "class Park:\n",
    "     def park(self,game1=\"\",game2=\"\",allg=\"\"):\n",
    "        print(\"let us enjoy on park\",game1,game2,allg,\"is available here\")"
   ]
  },
  {
   "cell_type": "code",
   "execution_count": 228,
   "id": "9f17b6ca-1d2c-44a3-b3c5-8218a4c40ea0",
   "metadata": {},
   "outputs": [],
   "source": [
    "g1 = Park()"
   ]
  },
  {
   "cell_type": "code",
   "execution_count": 230,
   "id": "ce25514f-26dc-4187-8c81-c1f91cd52feb",
   "metadata": {},
   "outputs": [
    {
     "name": "stdout",
     "output_type": "stream",
     "text": [
      "let us enjoy on park    is available here\n"
     ]
    }
   ],
   "source": [
    "g1.park()"
   ]
  },
  {
   "cell_type": "code",
   "execution_count": 232,
   "id": "551f0436-15b2-468f-a665-83f760afca28",
   "metadata": {},
   "outputs": [
    {
     "name": "stdout",
     "output_type": "stream",
     "text": [
      "let us enjoy on park Kite Flying:   is available here\n"
     ]
    }
   ],
   "source": [
    "g1.park(\"Kite Flying:\")"
   ]
  },
  {
   "cell_type": "code",
   "execution_count": 234,
   "id": "ba19997d-e26b-4521-abdd-59a49957cdcc",
   "metadata": {},
   "outputs": [
    {
     "name": "stdout",
     "output_type": "stream",
     "text": [
      "let us enjoy on park Kite Flying: Hula Hoop Challenge:  is available here\n"
     ]
    }
   ],
   "source": [
    "g1.park(\"Kite Flying:\",\"Hula Hoop Challenge:\")"
   ]
  },
  {
   "cell_type": "code",
   "execution_count": 247,
   "id": "c6eb7a2e-1d2d-41e5-b653-eefd251abfe8",
   "metadata": {},
   "outputs": [
    {
     "name": "stdout",
     "output_type": "stream",
     "text": [
      "let us enjoy on park Kite Flying: Hula Hoop Challenge: Three-Legged Race: is available here\n"
     ]
    }
   ],
   "source": [
    "g1.park(\"Kite Flying:\",\"Hula Hoop Challenge:\",\"Three-Legged Race:\")"
   ]
  },
  {
   "cell_type": "code",
   "execution_count": null,
   "id": "6e5c64a1-5fa6-45c3-8c31-9595b2a72ade",
   "metadata": {},
   "outputs": [],
   "source": []
  },
  {
   "cell_type": "raw",
   "id": "f627e6b0-3c9d-4991-a275-bb8b3f2da2ec",
   "metadata": {},
   "source": [
    "Q5. What are the three types of access modifiers in Python? How are they denoted ?\n",
    "1- public modifier :-\n",
    "a- In public modifier you can access or change anything in inside and outside of class\n",
    "b- All data members and member functions of a class are public by default.\n",
    "c- No special symbol are used for public memebers."
   ]
  },
  {
   "cell_type": "code",
   "execution_count": 236,
   "id": "3669940d-15ae-4755-b870-6bf2cc5d587f",
   "metadata": {},
   "outputs": [],
   "source": [
    "class German:\n",
    "    def __init__(self,name,age,degree):\n",
    "        self.name = name\n",
    "        self.age = age\n",
    "        self.degree = degree\n",
    "       "
   ]
  },
  {
   "cell_type": "code",
   "execution_count": 238,
   "id": "2a203d87-40a7-490d-8785-3fe718cf8565",
   "metadata": {},
   "outputs": [
    {
     "data": {
      "text/plain": [
       "'pwcron'"
      ]
     },
     "execution_count": 238,
     "metadata": {},
     "output_type": "execute_result"
    }
   ],
   "source": [
    "obj= German(\"pwcron\",\"26\",\"psychiology\")\n",
    "obj.name"
   ]
  },
  {
   "cell_type": "code",
   "execution_count": 240,
   "id": "b6893ffd-a13e-4fec-9f65-f886872c1a4c",
   "metadata": {},
   "outputs": [
    {
     "data": {
      "text/plain": [
       "'psychiology'"
      ]
     },
     "execution_count": 240,
     "metadata": {},
     "output_type": "execute_result"
    }
   ],
   "source": [
    "obj.degree"
   ]
  },
  {
   "cell_type": "code",
   "execution_count": 242,
   "id": "21edc191-7278-4c1d-a82d-5aee0724db8d",
   "metadata": {},
   "outputs": [
    {
     "data": {
      "text/plain": [
       "'26'"
      ]
     },
     "execution_count": 242,
     "metadata": {},
     "output_type": "execute_result"
    }
   ],
   "source": [
    "obj.age"
   ]
  },
  {
   "cell_type": "code",
   "execution_count": 244,
   "id": "1a3929cf-f88c-4890-9cae-155ac5da1109",
   "metadata": {},
   "outputs": [],
   "source": [
    "#In public modifeier  assign  anything by anyonein place of given data \n",
    "obj.name = \"Parker\""
   ]
  },
  {
   "cell_type": "code",
   "execution_count": 246,
   "id": "d7055f65-65ae-4ac5-8027-5bb5b217fbd3",
   "metadata": {},
   "outputs": [
    {
     "data": {
      "text/plain": [
       "'Parker'"
      ]
     },
     "execution_count": 246,
     "metadata": {},
     "output_type": "execute_result"
    }
   ],
   "source": [
    "obj.name # noe the name is changed of the given name "
   ]
  },
  {
   "cell_type": "code",
   "execution_count": 248,
   "id": "3cba5311-17fc-48ff-82e1-d8a9a47182b4",
   "metadata": {},
   "outputs": [],
   "source": [
    "# all outcomes in single line\n",
    "class German:\n",
    "    def __init__(self,name,age,degree):\n",
    "        self.name = name\n",
    "        self.age = age\n",
    "        self.degree = degree\n",
    "\n",
    "    def show(self):\n",
    "        print(f\"My name is {self.name}, my age is {self.age} and completed {self.degree}\")\n",
    "    "
   ]
  },
  {
   "cell_type": "code",
   "execution_count": 250,
   "id": "7c2593ee-bd0a-4b47-b13e-c67af4f166fa",
   "metadata": {},
   "outputs": [
    {
     "name": "stdout",
     "output_type": "stream",
     "text": [
      "My name is koilee, my age is 24 and completed mtech\n"
     ]
    }
   ],
   "source": [
    "obj1 = German(\"koilee\",\"24\",\"mtech\")\n",
    "obj1.show()"
   ]
  },
  {
   "cell_type": "code",
   "execution_count": 252,
   "id": "0c7a81c6-431a-4096-b1f4-1551ff50f3a4",
   "metadata": {},
   "outputs": [],
   "source": [
    "obj1.degree = \"bcom\" # access and change the given data"
   ]
  },
  {
   "cell_type": "code",
   "execution_count": 254,
   "id": "af786f44-d84a-47ef-9514-dd6d08aa0568",
   "metadata": {},
   "outputs": [
    {
     "name": "stdout",
     "output_type": "stream",
     "text": [
      "My name is koilee, my age is 24 and completed bcom\n"
     ]
    }
   ],
   "source": [
    "obj1.show()"
   ]
  },
  {
   "cell_type": "raw",
   "id": "3e47b1c5-1fad-46d3-a947-c08dd27de90b",
   "metadata": {},
   "source": [
    "2- Private modifier:-\n",
    "a- The data and method only accessible within the class.\n",
    "b- To make public to private we use double underscore behind the function or data(__)\n",
    "c- we can also access private modifier with the help of class name  \n",
    "d. private>> not works on inheritance"
   ]
  },
  {
   "cell_type": "code",
   "execution_count": 256,
   "id": "575e156d-2919-474c-bacc-4beb2ebf1c80",
   "metadata": {},
   "outputs": [],
   "source": [
    "# Make data private\n",
    "class History:\n",
    "    def __init__(self, dynasty1, dynasty2, dynasty3):\n",
    "        self.__dynasty1 = dynasty1 # dynasty1 and dynasty2 make into private instance variable for using double underscore .\n",
    "        self.__dynasty2 = dynasty2\n",
    "        self.dynasty3 = dynasty3\n",
    "    def sho(self):\n",
    "        print(f\"first { self.__dynasty1},second { self.__dynasty2} and third { self.dynasty3}\")\n",
    "    "
   ]
  },
  {
   "cell_type": "code",
   "execution_count": 258,
   "id": "1d27bdb1-31ac-47f1-8a76-16c9272390cd",
   "metadata": {},
   "outputs": [
    {
     "data": {
      "text/plain": [
       "'Roman empire'"
      ]
     },
     "execution_count": 258,
     "metadata": {},
     "output_type": "execute_result"
    }
   ],
   "source": [
    "ob2 = History(\"Maurya\",\"Mughal\",\"Roman empire\")\n",
    "ob2.dynasty3"
   ]
  },
  {
   "cell_type": "code",
   "execution_count": 260,
   "id": "3cb3aa26-3a53-4808-98ce-7a70e10b7c8b",
   "metadata": {},
   "outputs": [
    {
     "ename": "SyntaxError",
     "evalue": "invalid syntax (2420690294.py, line 1)",
     "output_type": "error",
     "traceback": [
      "\u001b[1;36m  Cell \u001b[1;32mIn[260], line 1\u001b[1;36m\u001b[0m\n\u001b[1;33m    ob2.dynasty2 not accessible because private\u001b[0m\n\u001b[1;37m                     ^\u001b[0m\n\u001b[1;31mSyntaxError\u001b[0m\u001b[1;31m:\u001b[0m invalid syntax\n"
     ]
    }
   ],
   "source": [
    "ob2.dynasty2 not accessible because private"
   ]
  },
  {
   "cell_type": "code",
   "execution_count": 262,
   "id": "810fc29b-c6ee-43a2-a58b-0a03846cbb9a",
   "metadata": {},
   "outputs": [],
   "source": [
    "#access and change with the help of class name\n",
    "ob2._History__dynasty2 = \"Ptolemaic\""
   ]
  },
  {
   "cell_type": "code",
   "execution_count": 264,
   "id": "36d75d8f-6856-491b-94b2-a72141527337",
   "metadata": {},
   "outputs": [
    {
     "data": {
      "text/plain": [
       "'Ptolemaic'"
      ]
     },
     "execution_count": 264,
     "metadata": {},
     "output_type": "execute_result"
    }
   ],
   "source": [
    "ob2._History__dynasty2 "
   ]
  },
  {
   "cell_type": "code",
   "execution_count": 266,
   "id": "c5046619-f31e-4ad8-bfd0-8c3fa6a96127",
   "metadata": {},
   "outputs": [
    {
     "ename": "AttributeError",
     "evalue": "'History' object has no attribute 'show'",
     "output_type": "error",
     "traceback": [
      "\u001b[1;31m---------------------------------------------------------------------------\u001b[0m",
      "\u001b[1;31mAttributeError\u001b[0m                            Traceback (most recent call last)",
      "Cell \u001b[1;32mIn[266], line 1\u001b[0m\n\u001b[1;32m----> 1\u001b[0m \u001b[43mob2\u001b[49m\u001b[38;5;241;43m.\u001b[39;49m\u001b[43mshow\u001b[49m()\n",
      "\u001b[1;31mAttributeError\u001b[0m: 'History' object has no attribute 'show'"
     ]
    }
   ],
   "source": [
    "ob2.show()"
   ]
  },
  {
   "cell_type": "code",
   "execution_count": 268,
   "id": "ef38b98a-b91e-4250-a0eb-82c7231330ee",
   "metadata": {},
   "outputs": [],
   "source": [
    "# Make private method using bouble underscore __\n",
    "class History:\n",
    "    def __init__(self, dynasty1, dynasty2, dynasty3):\n",
    "        self.__dynasty1 = dynasty1 # dynasty1 and dynasty2 make into private instance variable for using double underscore .\n",
    "        self.__dynasty2 = dynasty2\n",
    "        self.dynasty3 = dynasty3\n",
    "    def show(self):\n",
    "        print(f\"first { self.__dynasty1},second { self.__dynasty2} and third { self.dynasty3}\")\n",
    "    def __private_method(self):\n",
    "        print(\"All are private not accessible\")\n",
    "    def access_private_method(self): # private method ko access karne ke liye\n",
    "        self.__private_method()"
   ]
  },
  {
   "cell_type": "code",
   "execution_count": 270,
   "id": "28f6cc96-3bbc-405f-a68e-c12d604b0c34",
   "metadata": {},
   "outputs": [
    {
     "name": "stdout",
     "output_type": "stream",
     "text": [
      "first Maurya,second Mughal and third Roman empire\n"
     ]
    }
   ],
   "source": [
    "ob3= History(\"Maurya\",\"Mughal\",\"Roman empire\")\n",
    "ob3.show()"
   ]
  },
  {
   "cell_type": "code",
   "execution_count": 272,
   "id": "2bf6b817-ed31-4f93-90ff-9d3e3baaace5",
   "metadata": {},
   "outputs": [
    {
     "name": "stdout",
     "output_type": "stream",
     "text": [
      "All are private not accessible\n"
     ]
    }
   ],
   "source": [
    "ob3.access_private_method()"
   ]
  },
  {
   "cell_type": "code",
   "execution_count": 274,
   "id": "2c41a1ef-38e3-41e3-9ce2-7c7698be577f",
   "metadata": {},
   "outputs": [
    {
     "ename": "AttributeError",
     "evalue": "'History' object has no attribute 'dynasty2'",
     "output_type": "error",
     "traceback": [
      "\u001b[1;31m---------------------------------------------------------------------------\u001b[0m",
      "\u001b[1;31mAttributeError\u001b[0m                            Traceback (most recent call last)",
      "Cell \u001b[1;32mIn[274], line 1\u001b[0m\n\u001b[1;32m----> 1\u001b[0m \u001b[43mob3\u001b[49m\u001b[38;5;241;43m.\u001b[39;49m\u001b[43mdynasty2\u001b[49m \u001b[38;5;66;03m# not accessible because private function\u001b[39;00m\n",
      "\u001b[1;31mAttributeError\u001b[0m: 'History' object has no attribute 'dynasty2'"
     ]
    }
   ],
   "source": [
    "ob3.dynasty2 # not accessible because private function"
   ]
  },
  {
   "cell_type": "code",
   "execution_count": 276,
   "id": "d9ee530a-0704-4e3f-961e-d19db38b83dc",
   "metadata": {},
   "outputs": [
    {
     "ename": "AttributeError",
     "evalue": "'History' object has no attribute 'private_method'",
     "output_type": "error",
     "traceback": [
      "\u001b[1;31m---------------------------------------------------------------------------\u001b[0m",
      "\u001b[1;31mAttributeError\u001b[0m                            Traceback (most recent call last)",
      "Cell \u001b[1;32mIn[276], line 1\u001b[0m\n\u001b[1;32m----> 1\u001b[0m \u001b[43mob3\u001b[49m\u001b[38;5;241;43m.\u001b[39;49m\u001b[43mprivate_method\u001b[49m \u001b[38;5;66;03m#not accessible because private method\u001b[39;00m\n",
      "\u001b[1;31mAttributeError\u001b[0m: 'History' object has no attribute 'private_method'"
     ]
    }
   ],
   "source": [
    "ob3.private_method #not accessible because private method"
   ]
  },
  {
   "cell_type": "code",
   "execution_count": 278,
   "id": "8bfcacbf-57b0-4410-b770-8be0556a39a4",
   "metadata": {},
   "outputs": [
    {
     "name": "stdout",
     "output_type": "stream",
     "text": [
      "All are private not accessible\n"
     ]
    }
   ],
   "source": [
    "ob3._History__private_method() # accessible using class name"
   ]
  },
  {
   "cell_type": "raw",
   "id": "2bf22ee6-ee16-4533-a8be-66a2f4807167",
   "metadata": {},
   "source": [
    "3- Protected modifier:-\n",
    "a. within the class and its subclass,\n",
    "b. protected member can be access,(_)\n",
    "c. protected class >> works on inheritance\n"
   ]
  },
  {
   "cell_type": "code",
   "execution_count": 280,
   "id": "621f74cb-e8a2-415b-9059-a89d75a1d5ec",
   "metadata": {},
   "outputs": [],
   "source": [
    "class College:\n",
    "    def __init__(self):\n",
    "        self._college_name = \"pwskills\" #protected variable\n",
    "\n",
    "class Student(College):\n",
    "    def __init__(self,name):\n",
    "        self.name = name\n",
    "        College.__init__(self)\n",
    "    def show(self):\n",
    "        print(f\"name{self.name},college {self._college_name}\")"
   ]
  },
  {
   "cell_type": "code",
   "execution_count": 282,
   "id": "2a97825a-61c6-4211-84c9-6d5640672ae8",
   "metadata": {},
   "outputs": [
    {
     "data": {
      "text/plain": [
       "'Shanuutr'"
      ]
     },
     "execution_count": 282,
     "metadata": {},
     "output_type": "execute_result"
    }
   ],
   "source": [
    "ob4 =Student(\"Shanuutr\")\n",
    "ob4.name"
   ]
  },
  {
   "cell_type": "code",
   "execution_count": 284,
   "id": "fd50a3bb-9b8c-4f8c-8548-47d60b2d269b",
   "metadata": {},
   "outputs": [
    {
     "name": "stdout",
     "output_type": "stream",
     "text": [
      "nameShanuutr,college pwskills\n"
     ]
    }
   ],
   "source": [
    "ob4.show()"
   ]
  },
  {
   "cell_type": "code",
   "execution_count": 286,
   "id": "41d4310a-c5a3-4c3f-b10b-de90702e76fe",
   "metadata": {},
   "outputs": [
    {
     "data": {
      "text/plain": [
       "'pwskills'"
      ]
     },
     "execution_count": 286,
     "metadata": {},
     "output_type": "execute_result"
    }
   ],
   "source": [
    "ob4._college_name"
   ]
  },
  {
   "cell_type": "markdown",
   "id": "ce4c98af-c0ec-4563-b2fa-a8e4f184e023",
   "metadata": {},
   "source": [
    "Q7. What is the Method Resolution Order (MRO) in Python? How can you retrieve it programmatically?"
   ]
  },
  {
   "cell_type": "raw",
   "id": "29402892-4d1b-4a15-a154-f84ad02b2384",
   "metadata": {},
   "source": [
    "# Method Resolution Order :-\n",
    "#MRO system is used in diamond problem in inheitance when  a class inherits more tha two class then lead to ambiguity in execution of methods, in this case python uses MRO algorithms called as c3 linearization  means that the class that is inherited first in the derived class, that method will be called first\n",
    "1. In the given problem  class A,B and C have same method a and in the class C and D inherits two class, if  we call the function D or C then inherits first in the derived class means in D class C inherits.\n"
   ]
  },
  {
   "cell_type": "code",
   "execution_count": 289,
   "id": "57ef4554-3648-4e57-b704-b9510495fb35",
   "metadata": {},
   "outputs": [],
   "source": [
    "class A:\n",
    "    def a(self):\n",
    "        print(\"under the a\")\n",
    "\n",
    "class B(A):\n",
    "    def a(self):\n",
    "        print(\"under the b\")\n",
    "\n",
    "class C(B,A):\n",
    "    def a(self):\n",
    "         print(\"under the c and a\")\n",
    "class D(C,B):\n",
    "    def a1(self):\n",
    "        print(\"under the b and c\")"
   ]
  },
  {
   "cell_type": "code",
   "execution_count": 291,
   "id": "be50c38b-5e19-4786-8cd1-e71c98b390a2",
   "metadata": {},
   "outputs": [
    {
     "name": "stdout",
     "output_type": "stream",
     "text": [
      "under the c and a\n"
     ]
    }
   ],
   "source": [
    "d = D()\n",
    "d.a()"
   ]
  },
  {
   "cell_type": "code",
   "execution_count": 293,
   "id": "3588d2ff-e3d7-4b94-949e-50dadbdcef24",
   "metadata": {},
   "outputs": [
    {
     "name": "stdout",
     "output_type": "stream",
     "text": [
      "under the b and c\n"
     ]
    }
   ],
   "source": [
    "d.a1()"
   ]
  },
  {
   "cell_type": "code",
   "execution_count": 295,
   "id": "a055135b-1b3f-4072-a4e3-44ae297fdeec",
   "metadata": {},
   "outputs": [
    {
     "name": "stdout",
     "output_type": "stream",
     "text": [
      "under the c and a\n"
     ]
    }
   ],
   "source": [
    "d.a()"
   ]
  },
  {
   "cell_type": "code",
   "execution_count": null,
   "id": "c551cde9-3c33-4d64-87f6-6c3fdbab74d9",
   "metadata": {},
   "outputs": [],
   "source": []
  },
  {
   "cell_type": "raw",
   "id": "ee07d0ee-e399-4dbc-b450-8bbc5bdb4291",
   "metadata": {},
   "source": [
    "Q9. Demonstrate polymorphism by creating a function that can work with different shape objects to calculate and print their areas.\n",
    "Polymorphism is one of the essential concepts of oop . it means polymorphism enables us to carry out a single activity in a variety of ways"
   ]
  },
  {
   "cell_type": "code",
   "execution_count": 328,
   "id": "4fb3b845-4408-4edb-bf9b-092ef293f778",
   "metadata": {},
   "outputs": [],
   "source": [
    "class shape:\n",
    "    def area(self):\n",
    "        return area\n",
    "        \n",
    "class Rectangle(shape):\n",
    "    def __init__(self,length,breadth):\n",
    "        self.__length = length # private variable\n",
    "        self.__breadth = breadth\n",
    "    def area(self):\n",
    "        return self.__length* self.__breadth\n",
    "\n",
    "class Circle(shape):\n",
    "    def __init__(self,radius):\n",
    "        self.__radius = radius # private variable\n",
    "    def area(self):  \n",
    "        return 3.14*self.__radius**2\n",
    "    "
   ]
  },
  {
   "cell_type": "code",
   "execution_count": 330,
   "id": "37ff715d-20c4-490b-a27d-e1f6fa761dba",
   "metadata": {},
   "outputs": [
    {
     "data": {
      "text/plain": [
       "10"
      ]
     },
     "execution_count": 330,
     "metadata": {},
     "output_type": "execute_result"
    }
   ],
   "source": [
    "ob1 = Rectangle(2,5)\n",
    "ob1.area()\n"
   ]
  },
  {
   "cell_type": "code",
   "execution_count": 332,
   "id": "bcd5f4d8-7277-4369-8678-b54777373eb5",
   "metadata": {},
   "outputs": [
    {
     "data": {
      "text/plain": [
       "78.5"
      ]
     },
     "execution_count": 332,
     "metadata": {},
     "output_type": "execute_result"
    }
   ],
   "source": [
    "ob2 = Circle(5)\n",
    "ob2.area()"
   ]
  },
  {
   "cell_type": "code",
   "execution_count": null,
   "id": "17fa03bc-d49f-4411-9712-897e86ed610f",
   "metadata": {},
   "outputs": [],
   "source": []
  },
  {
   "cell_type": "raw",
   "id": "7c30bc83-35ce-43f6-a337-373dc2da62d8",
   "metadata": {},
   "source": [
    "Q10. Implement encapsulation in a `BankAccount` class with private attributes for `balance` and\n",
    "    `account_number`. Include methods for deposit, withdrawal, and balance inquiry"
   ]
  },
  {
   "cell_type": "code",
   "execution_count": 334,
   "id": "80894df0-c4e8-4b9d-9497-f04a704d0d3f",
   "metadata": {},
   "outputs": [],
   "source": [
    "class BankAccount:\n",
    "    def __init__(self,balance,account_number):\n",
    "        self.__balance = balance\n",
    "        self.__account_number = account_number\n",
    "    def deposit(self,amount):\n",
    "        self.__balance = self.__balance+amount\n",
    "        print(\"I am depositing the money\", amount)\n",
    "    def withdrawal(self,withdrawl_amount):\n",
    "        if (withdrawl_amount <= self.__balance):\n",
    "            print(\"I am withdrawlimg the amount\", withdrawl_amount)\n",
    "        else:\n",
    "            print(\"not sufficient money\")\n",
    "        self.__balance = self.__balance - withdrawl_amount   \n",
    "    def balance_enquiry(self):\n",
    "        print(self.__balance)\n",
    "    \n",
    "        "
   ]
  },
  {
   "cell_type": "code",
   "execution_count": 336,
   "id": "6c1ba2c6-0966-41ef-bd44-051ede858aa0",
   "metadata": {},
   "outputs": [
    {
     "name": "stdout",
     "output_type": "stream",
     "text": [
      "2000\n"
     ]
    }
   ],
   "source": [
    "my_account = BankAccount(2000,12042058913)\n",
    "my_account.balance_enquiry()"
   ]
  },
  {
   "cell_type": "code",
   "execution_count": 338,
   "id": "43de0f31-8bbf-4a2c-a3b7-59a862a6cd07",
   "metadata": {},
   "outputs": [
    {
     "name": "stdout",
     "output_type": "stream",
     "text": [
      "I am withdrawlimg the amount 500\n"
     ]
    }
   ],
   "source": [
    "my_account.withdrawal(500)"
   ]
  },
  {
   "cell_type": "code",
   "execution_count": 340,
   "id": "e0b2cfbb-0d6b-44f9-b5fb-1c51a70921db",
   "metadata": {},
   "outputs": [
    {
     "name": "stdout",
     "output_type": "stream",
     "text": [
      "1500\n"
     ]
    }
   ],
   "source": [
    "my_account.balance_enquiry()"
   ]
  },
  {
   "cell_type": "code",
   "execution_count": 342,
   "id": "8214d096-d1e9-4f4f-9473-ae97a7bd7349",
   "metadata": {},
   "outputs": [
    {
     "name": "stdout",
     "output_type": "stream",
     "text": [
      "I am depositing the money 500\n",
      "I am withdrawlimg the amount 300\n",
      "1200\n"
     ]
    }
   ],
   "source": [
    "# Create a BankAccount instance\n",
    "my_account = BankAccount(balance=1000, account_number=\"123456\")\n",
    "\n",
    "# Deposit money\n",
    "my_account.deposit(500)\n",
    "\n",
    "# Withdraw money\n",
    "my_account.withdrawal(300)\n",
    "\n",
    "# Check balance\n",
    "my_account.balance_enquiry()\n"
   ]
  },
  {
   "cell_type": "code",
   "execution_count": null,
   "id": "71cf8c9d-079b-4c63-a103-ed3643e437a5",
   "metadata": {},
   "outputs": [],
   "source": []
  },
  {
   "cell_type": "raw",
   "id": "6acfe223-b287-49a1-9256-edd947d9d28f",
   "metadata": {},
   "source": [
    "Q12. Create a decorator that measures and prints the execution time of a function.\n",
    "Decorator >>1. we add some extra thing in the code to make more valuable without affecting the function is called as decorator.\n",
    "            2. It allow to modify or extend the behaviour of functions/class without directly modifying their original code.\n",
    "            3. It works like a modifying/make attractive any room with the adding of some extra thing like light,stickers,decorate,adding poster etc.\n",
    "tyoes of decorators are :- 1. function decorator\n",
    "                           2. Class decorator\n",
    "                           3. Static method\n",
    "                           4. Property decorator\n",
    "                           5. Class method "
   ]
  },
  {
   "cell_type": "code",
   "execution_count": 345,
   "id": "3e2a87ed-e96e-4acd-b0fc-3ff5dc361b2c",
   "metadata": {},
   "outputs": [],
   "source": [
    "import time\n",
    "def my_decorator(func):\n",
    "    def timer():\n",
    "        start = time.time()\n",
    "        func()\n",
    "        end = time.time()\n",
    "        print(\"The time for execution the code is\", end-start)\n",
    "    return timer"
   ]
  },
  {
   "cell_type": "code",
   "execution_count": 347,
   "id": "bdff10f2-97cf-47e3-b418-1e4f619c023b",
   "metadata": {},
   "outputs": [
    {
     "name": "stdout",
     "output_type": "stream",
     "text": [
      "32981625\n",
      "The time for execution the code is 0.0\n"
     ]
    }
   ],
   "source": [
    "@my_decorator\n",
    "def multi():\n",
    "    print(23145*1425)  \n",
    "multi()"
   ]
  },
  {
   "cell_type": "code",
   "execution_count": null,
   "id": "9dc81788-47ef-4eaf-babe-810b08850407",
   "metadata": {},
   "outputs": [],
   "source": []
  },
  {
   "cell_type": "raw",
   "id": "0d9c522f-7e42-4cf1-bc70-469b412f3a01",
   "metadata": {},
   "source": [
    "Q14. Write a class method that keeps track of the number of instances created from a class.\n",
    "Class method:-1- The method that takes the class itself as the first argument is called the class method.\n",
    "2- class method bound to the class (and not to a particular instance of the class), it can access/modify methods\n",
    "3- @classmethod decorator \n",
    "4- instead of self, cls be a first parameter\n",
    "5- It is also called as alternative of init method to pass the data"
   ]
  },
  {
   "cell_type": "code",
   "execution_count": 341,
   "id": "9d24a887-bd0e-434f-b690-a34193f982fe",
   "metadata": {},
   "outputs": [],
   "source": [
    "class Student:\n",
    "    total_students = 0 #class variable to track instances\n",
    "    def __init__(self,name):\n",
    "        self.name = name\n",
    "        Student.total_students = Student.total_students+1\n",
    "    @classmethod\n",
    "    def get_total_students(cls):\n",
    "        return cls.total_students"
   ]
  },
  {
   "cell_type": "code",
   "execution_count": 343,
   "id": "6cc7348b-7f14-4167-b9aa-dbd39c1116e0",
   "metadata": {},
   "outputs": [
    {
     "data": {
      "text/plain": [
       "0"
      ]
     },
     "execution_count": 343,
     "metadata": {},
     "output_type": "execute_result"
    }
   ],
   "source": [
    "Student.total_students"
   ]
  },
  {
   "cell_type": "code",
   "execution_count": 345,
   "id": "2dedb616-f5a4-49a6-b3d5-29ebbf83aa42",
   "metadata": {},
   "outputs": [],
   "source": [
    "std1 = Student(\"Singhaniya\")\n",
    "std2 = Student(\"rommiyo\")\n",
    "std3 = Student(\"heropanti\")"
   ]
  },
  {
   "cell_type": "code",
   "execution_count": 347,
   "id": "7fbc0b39-52b2-443b-a72f-c1317c3f7ea4",
   "metadata": {},
   "outputs": [
    {
     "data": {
      "text/plain": [
       "3"
      ]
     },
     "execution_count": 347,
     "metadata": {},
     "output_type": "execute_result"
    }
   ],
   "source": [
    "Student.total_students"
   ]
  },
  {
   "cell_type": "raw",
   "id": "1de7f6c2-aaf0-4e50-8719-ef803bdd072f",
   "metadata": {},
   "source": [
    "Q15. Implement a static method in a class that checks if a given year is a leap year.\n",
    "Static method :-\n",
    "1- It is a method that does not modify class or instance state, doesn't access instance or class state and also doesn't depend\n",
    "2-It behaves like a plain function that belongs to class\n",
    "3-It doesn't take either self or cls \n",
    "4-@static method is used \n",
    "5-works with parameter passed"
   ]
  },
  {
   "cell_type": "code",
   "execution_count": 349,
   "id": "29a7e4c4-7226-452b-8347-31638c178349",
   "metadata": {},
   "outputs": [],
   "source": [
    "class LeapYear:\n",
    "    @staticmethod\n",
    "    def check_leap_year(year):\n",
    "        if year % 4 == 0:\n",
    "            print(\"it is a leap year\", year)\n",
    "        elif ( year % 100 == 0 and year % 400 ==0): \n",
    "               print(\"it is a leap year\", year)\n",
    "        else:\n",
    "            print(\"not a leap year\", year)"
   ]
  },
  {
   "cell_type": "code",
   "execution_count": 351,
   "id": "ac4c3b89-6653-4732-a7ce-1bb788b9746e",
   "metadata": {},
   "outputs": [
    {
     "name": "stdout",
     "output_type": "stream",
     "text": [
      "not a leap year 2022\n"
     ]
    }
   ],
   "source": [
    "LeapYear.check_leap_year(2022)"
   ]
  },
  {
   "cell_type": "code",
   "execution_count": 353,
   "id": "b3521971-6d37-477a-9371-6a39b6c44bf1",
   "metadata": {},
   "outputs": [
    {
     "name": "stdout",
     "output_type": "stream",
     "text": [
      "it is a leap year 2024\n"
     ]
    }
   ],
   "source": [
    "LeapYear.check_leap_year(2024) "
   ]
  },
  {
   "cell_type": "code",
   "execution_count": 355,
   "id": "8cb3a95a-b695-4d3d-9830-2bac52c7ca2c",
   "metadata": {},
   "outputs": [
    {
     "name": "stdout",
     "output_type": "stream",
     "text": [
      "it is a leap year 2004\n"
     ]
    }
   ],
   "source": [
    "LeapYear.check_leap_year(2004)"
   ]
  },
  {
   "cell_type": "code",
   "execution_count": 357,
   "id": "13c454f4-2fec-44fe-a673-92ca7339b596",
   "metadata": {},
   "outputs": [
    {
     "name": "stdout",
     "output_type": "stream",
     "text": [
      "not a leap year 2009\n"
     ]
    }
   ],
   "source": [
    "LeapYear.check_leap_year(2009)"
   ]
  },
  {
   "cell_type": "code",
   "execution_count": null,
   "id": "e97c2b27-eb47-47ea-a997-e8c836f20da2",
   "metadata": {},
   "outputs": [],
   "source": []
  },
  {
   "cell_type": "raw",
   "id": "213b4c58-37d7-4b33-8a70-d573a66d106d",
   "metadata": {},
   "source": [
    "Q13. Explain the concept of the Diamond Problem in multiple inheritance. How does Python resolve it?\n",
    "#MRO system is used in diamond problem in inheitance when  a class inherits more tha two class then lead to ambiguity in execution of methods, in this case python uses MRO algorithms called as c3 linearization  means that the class that is inherited first in the derived class, that method will be called first\n",
    "1. In the given problem class ParentClass1,ParentClass2 have same method  and in the class C and D inherits two class, if  we call the function D or C then inherits first in the derived class means in D class C inherits."
   ]
  },
  {
   "cell_type": "code",
   "execution_count": 360,
   "id": "c44c92bf-8bbe-4118-bdf8-717d0123599d",
   "metadata": {},
   "outputs": [],
   "source": [
    "\n",
    "class ParentClass1:\n",
    "    def method_par(self):\n",
    "        print(\"method 1 of parent class1\")\n",
    "\n",
    "class ParentClass2:\n",
    "    def method_par(self):\n",
    "        print(\"method of inside class 2\")\n",
    "\n",
    "class ChildClass(ParentClass1,ParentClass2):\n",
    "    def method(self):\n",
    "        print(\"mehod of child class\")"
   ]
  },
  {
   "cell_type": "code",
   "execution_count": 362,
   "id": "902e69c2-1669-4262-ae7f-37214e703304",
   "metadata": {},
   "outputs": [
    {
     "name": "stdout",
     "output_type": "stream",
     "text": [
      "method 1 of parent class1\n"
     ]
    }
   ],
   "source": [
    "ob1 = ParentClass1()\n",
    "ob1.method_par()"
   ]
  },
  {
   "cell_type": "code",
   "execution_count": 364,
   "id": "eef8bb93-0397-4624-a79b-5888a89e9de3",
   "metadata": {},
   "outputs": [
    {
     "name": "stdout",
     "output_type": "stream",
     "text": [
      "method 1 of parent class1\n"
     ]
    }
   ],
   "source": [
    "ob1 = ChildClass()\n",
    "ob1.method_par()"
   ]
  },
  {
   "cell_type": "raw",
   "id": "0e149dba-5912-4279-98c7-30d256c00bc1",
   "metadata": {},
   "source": [
    "Q11. Write a class that overrides the `__str__` and `__add__` magic methods. What will these methods allow you to do?\n",
    "Ans. Dunder/Magic/Special methods are the methods defined by built_in classes in python\n",
    "     in python.\n",
    "    dunder>> d stands for double and under stands for underscore >> all the \n",
    "    methods surrounding double underscore is a dunder method\n",
    "__str__ this dunder method gives the radable output for the user"
   ]
  },
  {
   "cell_type": "code",
   "execution_count": 359,
   "id": "be02b92a-64a1-4b62-9a63-d8b78065898c",
   "metadata": {},
   "outputs": [
    {
     "data": {
      "text/plain": [
       "15"
      ]
     },
     "execution_count": 359,
     "metadata": {},
     "output_type": "execute_result"
    }
   ],
   "source": [
    "## __add__ are used to add integer and concatenate the string\n",
    "a = 5\n",
    "b = 10\n",
    "a.__add__(b)"
   ]
  },
  {
   "cell_type": "code",
   "execution_count": null,
   "id": "6183597f-95e9-4952-8e31-e28cf31eb3ef",
   "metadata": {},
   "outputs": [],
   "source": []
  },
  {
   "cell_type": "code",
   "execution_count": 371,
   "id": "d5595fa3-1aa1-47dd-9639-57c73bb2a919",
   "metadata": {},
   "outputs": [
    {
     "data": {
      "text/plain": [
       "'hlogoodbye'"
      ]
     },
     "execution_count": 371,
     "metadata": {},
     "output_type": "execute_result"
    }
   ],
   "source": [
    "a = \"hlo\"\n",
    "b = \"goodbye\"\n",
    "a.__add__(b)"
   ]
  },
  {
   "cell_type": "code",
   "execution_count": 490,
   "id": "e66abc1b-acc1-470c-84e3-0edf62a70190",
   "metadata": {},
   "outputs": [
    {
     "name": "stdout",
     "output_type": "stream",
     "text": [
      "('This book is written by', {'Jennifer'}, 'studied by', {'Jennifer'}, 'pages', {400})\n",
      "(byJennifer, pages400, book pyhont)\n"
     ]
    }
   ],
   "source": [
    "class Author:\n",
    "    def __init__(self, name,book_name, pages):\n",
    "        self.name  = name\n",
    "        self.book_name = book_name\n",
    "        self.pages = pages\n",
    "    def __add__(self,other): # add extra parameter to give output\n",
    "        return \"This book is written by\", {self.name} , \"studied by\", {self.name}, \"pages\",{ self.pages}\n",
    "    def __str__(self):\n",
    "        return f\"(by{self.name}, pages{self.pages}, book {self.book_name})\"      \n",
    "d = Author(\"Jennifer\",\"pyhont\", 400)   \n",
    "print(d+d)        \n",
    "print(d)\n"
   ]
  },
  {
   "cell_type": "code",
   "execution_count": 492,
   "id": "3bce7d60-3903-448d-976d-1c5f001a75b2",
   "metadata": {},
   "outputs": [
    {
     "name": "stdout",
     "output_type": "stream",
     "text": [
      "<__main__.Author object at 0x00000173DDE433E0>\n"
     ]
    }
   ],
   "source": [
    "class Author:\n",
    "    def __init__(self, name,book_name, pages):\n",
    "        self.name  = name\n",
    "        self.book_name = book_name\n",
    "        self.pages = pages\n",
    "        \n",
    "    \n",
    "d = Author(\"Jennifer\",\"pyhont\", 400)   \n",
    "print(d)\n",
    "# make in to radable form for using __str__ magic method"
   ]
  },
  {
   "cell_type": "code",
   "execution_count": 408,
   "id": "d93c83bd-04fb-4216-b1eb-3808d20d5730",
   "metadata": {},
   "outputs": [
    {
     "name": "stdout",
     "output_type": "stream",
     "text": [
      "(byJennifer, pages400, book pyhont)\n"
     ]
    }
   ],
   "source": [
    "class Author:\n",
    "    def __init__(self, name,book_name, pages):\n",
    "        self.name  = name\n",
    "        self.book_name = book_name\n",
    "        self.pages = pages\n",
    "    def __str__(self):\n",
    "        return f\"(by{self.name}, pages{self.pages}, book {self.book_name})\"   \n",
    "d = Author(\"Jennifer\",\"pyhont\", 400)   \n",
    "print(d)"
   ]
  },
  {
   "cell_type": "code",
   "execution_count": 477,
   "id": "649a2450-8daf-4ab2-8eb7-2a7da871c55b",
   "metadata": {},
   "outputs": [],
   "source": []
  },
  {
   "cell_type": "code",
   "execution_count": null,
   "id": "1d92cc42-cecb-40f2-90ad-fe47008d036d",
   "metadata": {},
   "outputs": [],
   "source": []
  }
 ],
 "metadata": {
  "kernelspec": {
   "display_name": "Python 3 (ipykernel)",
   "language": "python",
   "name": "python3"
  },
  "language_info": {
   "codemirror_mode": {
    "name": "ipython",
    "version": 3
   },
   "file_extension": ".py",
   "mimetype": "text/x-python",
   "name": "python",
   "nbconvert_exporter": "python",
   "pygments_lexer": "ipython3",
   "version": "3.12.4"
  }
 },
 "nbformat": 4,
 "nbformat_minor": 5
}
